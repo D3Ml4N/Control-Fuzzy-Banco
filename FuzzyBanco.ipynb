{
  "nbformat": 4,
  "nbformat_minor": 0,
  "metadata": {
    "colab": {
      "provenance": [],
      "authorship_tag": "ABX9TyMEbiA974Z54tyqLCh+WDfA",
      "include_colab_link": true
    },
    "kernelspec": {
      "name": "python3",
      "display_name": "Python 3"
    },
    "language_info": {
      "name": "python"
    }
  },
  "cells": [
    {
      "cell_type": "markdown",
      "metadata": {
        "id": "view-in-github",
        "colab_type": "text"
      },
      "source": [
        "<a href=\"https://colab.research.google.com/github/D3Ml4N/Control-Fuzzy-Banco/blob/main/FuzzyBanco.ipynb\" target=\"_parent\"><img src=\"https://colab.research.google.com/assets/colab-badge.svg\" alt=\"Open In Colab\"/></a>"
      ]
    },
    {
      "cell_type": "code",
      "execution_count": 2,
      "metadata": {
        "colab": {
          "base_uri": "https://localhost:8080/"
        },
        "id": "F64DDNI3inVH",
        "outputId": "2b650fa7-0b31-4234-8f29-6db1ad2c249e"
      },
      "outputs": [
        {
          "output_type": "stream",
          "name": "stdout",
          "text": [
            "Collecting scikit-fuzzy\n",
            "  Downloading scikit-fuzzy-0.4.2.tar.gz (993 kB)\n",
            "\u001b[2K     \u001b[90m━━━━━━━━━━━━━━━━━━━━━━━━━━━━━━━━━━━━━━━━\u001b[0m \u001b[32m994.0/994.0 kB\u001b[0m \u001b[31m10.8 MB/s\u001b[0m eta \u001b[36m0:00:00\u001b[0m\n",
            "\u001b[?25h  Preparing metadata (setup.py) ... \u001b[?25l\u001b[?25hdone\n",
            "Requirement already satisfied: numpy>=1.6.0 in /usr/local/lib/python3.10/dist-packages (from scikit-fuzzy) (1.23.5)\n",
            "Requirement already satisfied: scipy>=0.9.0 in /usr/local/lib/python3.10/dist-packages (from scikit-fuzzy) (1.11.3)\n",
            "Requirement already satisfied: networkx>=1.9.0 in /usr/local/lib/python3.10/dist-packages (from scikit-fuzzy) (3.2)\n",
            "Building wheels for collected packages: scikit-fuzzy\n",
            "  Building wheel for scikit-fuzzy (setup.py) ... \u001b[?25l\u001b[?25hdone\n",
            "  Created wheel for scikit-fuzzy: filename=scikit_fuzzy-0.4.2-py3-none-any.whl size=894079 sha256=9478fc96e69ed04b62162aa9204dc30b079dae63142855cd07baf0e3b1498176\n",
            "  Stored in directory: /root/.cache/pip/wheels/4f/86/1b/dfd97134a2c8313e519bcebd95d3fedc7be7944db022094bc8\n",
            "Successfully built scikit-fuzzy\n",
            "Installing collected packages: scikit-fuzzy\n",
            "Successfully installed scikit-fuzzy-0.4.2\n"
          ]
        }
      ],
      "source": [
        "!pip install scikit-fuzzy"
      ]
    },
    {
      "cell_type": "code",
      "source": [
        "import numpy as np\n",
        "import skfuzzy as fuzz\n",
        "from skfuzzy import control as ctrl\n",
        "\n",
        "# Cantidad de dinero ahorrado\n",
        "ahorro = ctrl.Antecedent(np.arange(0, 600000001, 100000), 'ahorro')\n",
        "\n",
        "# Salario del cliente\n",
        "salario = ctrl.Antecedent(np.arange(0, 18000001, 100000), 'salario')\n",
        "\n",
        "# Probabilidad de ser cliente preferencial\n",
        "probabilidad = ctrl.Consequent(np.arange(0, 101, 1), 'probabilidad')\n",
        "\n",
        "# Funciones de membresía para ahorro\n",
        "ahorro['muy_bajo'] = fuzz.trimf(ahorro.universe, [0, 0, 10000000])\n",
        "ahorro['bajo'] = fuzz.trimf(ahorro.universe, [7000000, 13500000, 20000000])\n",
        "ahorro['medio'] = fuzz.trimf(ahorro.universe, [18000000, 39000000, 80000000])\n",
        "ahorro['alto'] = fuzz.trimf(ahorro.universe, [70000000, 135000000, 200000000])\n",
        "ahorro['muy_alto'] = fuzz.trimf(ahorro.universe, [180000000, 390000000, 600000000])"
      ],
      "metadata": {
        "id": "Twgx6ci0iw7B"
      },
      "execution_count": 3,
      "outputs": []
    },
    {
      "cell_type": "code",
      "source": [
        "# Funciones de membresía para salario\n",
        "salario['muy_bajo'] = fuzz.trimf(salario.universe, [0, 0, 1200000])\n",
        "salario['bajo'] = fuzz.trimf(salario.universe, [900000, 1000000, 2000000])\n",
        "salario['medio'] = fuzz.trimf(salario.universe, [1400000, 2200000, 4000000])\n",
        "salario['alto'] = fuzz.trimf(salario.universe, [3000000, 6500000, 10000000])\n",
        "salario['muy_alto'] = fuzz.trimf(salario.universe, [8000000, 13000000, 18000000])"
      ],
      "metadata": {
        "id": "emdBO1c-iz-i"
      },
      "execution_count": 4,
      "outputs": []
    },
    {
      "cell_type": "code",
      "source": [
        "# Funciones de membresía para probabilidad\n",
        "probabilidad['muy_baja'] = fuzz.trimf(probabilidad.universe, [0, 0, 15])\n",
        "probabilidad['baja'] = fuzz.trimf(probabilidad.universe, [14, 19, 25])\n",
        "probabilidad['media'] = fuzz.trimf(probabilidad.universe, [25, 40, 65])\n",
        "probabilidad['alta'] = fuzz.trimf(probabilidad.universe, [50, 60, 70])\n",
        "probabilidad['muy_alta'] = fuzz.trimf(probabilidad.universe, [80, 90, 100])"
      ],
      "metadata": {
        "id": "i-l8SzZXi2ou"
      },
      "execution_count": 5,
      "outputs": []
    },
    {
      "cell_type": "code",
      "source": [
        "# Reglas difusas\n",
        "regla1 = ctrl.Rule(ahorro['muy_bajo'] & salario['muy_bajo'], probabilidad['muy_baja'])\n",
        "regla2 = ctrl.Rule(ahorro['muy_bajo'] & salario['bajo'], probabilidad['muy_baja'])\n",
        "regla3 = ctrl.Rule(ahorro['muy_bajo'] & salario['medio'], probabilidad['muy_baja'])\n",
        "regla4 = ctrl.Rule(ahorro['muy_bajo'] & salario['alto'], probabilidad['baja'])\n",
        "regla5 = ctrl.Rule(ahorro['muy_bajo'] & salario['muy_alto'], probabilidad['media'])\n",
        "\n",
        "regla6 = ctrl.Rule(ahorro['bajo'] & salario['muy_bajo'], probabilidad['baja'])\n",
        "regla7 = ctrl.Rule(ahorro['bajo'] & salario['bajo'], probabilidad['baja'])\n",
        "regla8 = ctrl.Rule(ahorro['bajo'] & salario['medio'], probabilidad['media'])\n",
        "regla9 = ctrl.Rule(ahorro['bajo'] & salario['alto'], probabilidad['media'])\n",
        "regla10 = ctrl.Rule(ahorro['bajo'] & salario['muy_alto'], probabilidad['media'])\n",
        "\n",
        "regla11 = ctrl.Rule(ahorro['medio'] & salario['muy_bajo'], probabilidad['baja'])\n",
        "regla12 = ctrl.Rule(ahorro['medio'] & salario['bajo'], probabilidad['baja'])\n",
        "regla13 = ctrl.Rule(ahorro['medio'] & salario['medio'], probabilidad['media'])\n",
        "regla14 = ctrl.Rule(ahorro['medio'] & salario['alto'], probabilidad['alta'])\n",
        "regla15 = ctrl.Rule(ahorro['medio'] & salario['muy_alto'], probabilidad['alta'])\n",
        "\n",
        "regla16 = ctrl.Rule(ahorro['alto'] & salario['muy_bajo'], probabilidad['baja'])\n",
        "regla17 = ctrl.Rule(ahorro['alto'] & salario['bajo'], probabilidad['media'])\n",
        "regla18 = ctrl.Rule(ahorro['alto'] & salario['medio'], probabilidad['media'])\n",
        "regla19 = ctrl.Rule(ahorro['alto'] & salario['alto'], probabilidad['alta'])\n",
        "regla20 = ctrl.Rule(ahorro['alto'] & salario['muy_alto'], probabilidad['muy_alta'])\n",
        "\n",
        "regla21 = ctrl.Rule(ahorro['muy_alto'] & salario['muy_bajo'], probabilidad['media'])\n",
        "regla22 = ctrl.Rule(ahorro['muy_alto'] & salario['bajo'], probabilidad['media'])\n",
        "regla23 = ctrl.Rule(ahorro['muy_alto'] & salario['medio'], probabilidad['alta'])\n",
        "regla24 = ctrl.Rule(ahorro['muy_alto'] & salario['alto'], probabilidad['muy_alta'])\n",
        "regla25 = ctrl.Rule(ahorro['muy_alto'] & salario['muy_alto'], probabilidad['muy_alta'])\n",
        "\n",
        "\n",
        "\n",
        "sistema_control = ctrl.ControlSystem([\n",
        "    regla1, regla2, regla3, regla4,regla5, regla6, regla7, regla8,\n",
        "    regla9,regla10,regla11,regla12,regla13,regla14,regla15,regla16,regla17,regla18,regla19,\n",
        "    regla20,regla21,regla22,regla23,regla24,regla25\n",
        "])"
      ],
      "metadata": {
        "id": "EHkD4t8wi6GY"
      },
      "execution_count": 6,
      "outputs": []
    },
    {
      "cell_type": "code",
      "source": [
        "# Simulación del Sistema de Control Fuzzy\n",
        "cliente1 = ctrl.ControlSystemSimulation(sistema_control)\n",
        "cliente1.input['ahorro'] = 500000000\n",
        "cliente1.input['salario'] = 15000000\n",
        "cliente1.compute()\n",
        "print(\"Probabilidad de ser preferencial para Adriana:\", round(cliente1.output['probabilidad'],2))\n",
        "\n",
        "cliente2 = ctrl.ControlSystemSimulation(sistema_control)\n",
        "cliente2.input['ahorro'] = 30000000\n",
        "cliente2.input['salario'] = 9000000\n",
        "cliente2.compute()\n",
        "print(\"Probabilidad de ser preferencial para Nelson:\", round(cliente2.output['probabilidad'],2))\n",
        "\n",
        "cliente3 = ctrl.ControlSystemSimulation(sistema_control)\n",
        "cliente3.input['ahorro'] = 40000000\n",
        "cliente3.input['salario'] = 1160000\n",
        "cliente3.compute()\n",
        "print(\"Probabilidad de ser preferencial para Federico:\", round(cliente3.output['probabilidad'],2))\n",
        "\n",
        "cliente4 = ctrl.ControlSystemSimulation(sistema_control)\n",
        "cliente4.input['ahorro'] = 0\n",
        "cliente4.input['salario'] = 1500000\n",
        "cliente4.compute()\n",
        "print(\"Probabilidad de ser preferencial para Verónica:\", round(cliente4.output['probabilidad'],2))"
      ],
      "metadata": {
        "colab": {
          "base_uri": "https://localhost:8080/"
        },
        "id": "rIF2fSxxi9VU",
        "outputId": "5325ce31-b48b-41bc-f48e-d02aba6c1c20"
      },
      "execution_count": 7,
      "outputs": [
        {
          "output_type": "stream",
          "name": "stdout",
          "text": [
            "Probabilidad de ser preferencial para Adriana: 90.0\n",
            "Probabilidad de ser preferencial para Nelson: 60.0\n",
            "Probabilidad de ser preferencial para Federico: 19.34\n",
            "Probabilidad de ser preferencial para Verónica: 5.83\n"
          ]
        }
      ]
    }
  ]
}